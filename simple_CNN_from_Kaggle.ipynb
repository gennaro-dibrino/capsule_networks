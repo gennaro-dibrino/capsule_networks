{
  "cells": [
    {
      "metadata": {
        "_cell_guid": "dbf2ff22-712b-4fc2-8687-99caa9bf07d8",
        "_uuid": "f57e59e8589cb94001d8673fb737a4e0d96852bd",
        "trusted": false,
        "collapsed": true
      },
      "cell_type": "code",
      "source": "# Input data files are available in the \"../input/\" directory.\n# For example, running this (by clicking run or pressing Shift+Enter) will list the files in the input directory\n\nfrom subprocess import check_output\nprint(check_output([\"ls\", \"../input\"]).decode(\"utf8\"))\n\n\n# Any results you write to the current directory are saved as output.",
      "execution_count": null,
      "outputs": []
    },
    {
      "metadata": {
        "_cell_guid": "2805f6da-0df3-41f1-977a-547dac26a11f",
        "_uuid": "113b5b8f58952300f5a35a3999788e2d076beeab"
      },
      "cell_type": "markdown",
      "source": "This kernel is specifically is for Beginners who want's to experiment building CNN using Keras. By using this kernel, you can expect to get good score and also learn keras. \nKeras is simple frameworks where we can initialize the model and keep stacking the layers we want. It makes building deep neural networks very easy."
    },
    {
      "metadata": {
        "collapsed": true,
        "_cell_guid": "ea3f4874-a9aa-42f1-9605-b1784a6f48ba",
        "_uuid": "58c82d3b3c4b4305b388a6ac4eeca49d600f9105",
        "trusted": true
      },
      "cell_type": "code",
      "source": "import numpy as np\nimport pandas as pd\nfrom sklearn.model_selection import train_test_split\nfrom os.path import join as opj\nfrom matplotlib import pyplot as plt\nplt.rcParams['figure.figsize'] = 10, 10\n%matplotlib inline",
      "execution_count": 1,
      "outputs": []
    },
    {
      "metadata": {
        "collapsed": true,
        "_cell_guid": "804d3969-9035-4ceb-bb65-1b8549d729ec",
        "_uuid": "7a7f3af5ef279a9ed26c4d9ee764bd1fb4bdf10e",
        "trusted": true
      },
      "cell_type": "code",
      "source": "#Load the data.\ntrain = pd.read_json(\"../input/train.json\")",
      "execution_count": 2,
      "outputs": []
    },
    {
      "metadata": {
        "collapsed": true,
        "_cell_guid": "7b546aab-7b7d-4cde-91cc-e794fd4041bd",
        "_uuid": "2c18cf164fbbc6d1c29e9c668cbfcd7a1ea10824",
        "trusted": true
      },
      "cell_type": "code",
      "source": "#test = pd.read_json(\"../input/test.json\")",
      "execution_count": 3,
      "outputs": []
    },
    {
      "metadata": {
        "collapsed": true,
        "_cell_guid": "68377234-fd8a-4a5c-8991-9b768c5cf453",
        "_uuid": "7aaa1095d98b74de198ec9ad080f34d4f9408d96",
        "trusted": true
      },
      "cell_type": "code",
      "source": "train['band_1'] = [(np.array(img).reshape(75,75) - \\\n                    np.array(img).reshape(75,75).min())/(np.array(img).reshape(75,75).max() - \\\n                                                         np.array(img).reshape(75,75).min()) \\\n                   for img in train['band_1']]",
      "execution_count": 4,
      "outputs": []
    },
    {
      "metadata": {
        "collapsed": true,
        "_cell_guid": "829bf7db-fab1-4a2d-9562-0a37c6390d2a",
        "_uuid": "5292632717f11cd01c135dfabfd3cda9318cc639",
        "trusted": true
      },
      "cell_type": "code",
      "source": "#Generate the training data\n#Create 3 bands having HH, HV and avg of both\nX_band_1 = np.array([np.array(band).astype(np.float32).reshape(75, 75, 1) for band in train[\"band_1\"]])\nX_train = X_band_1\n#X_band_2=np.array([np.array(band).astype(np.float32).reshape(75, 75) for band in train[\"band_2\"]])\n#X_train = np.concatenate([X_band_1[:, :, :, np.newaxis], X_band_2[:, :, :, np.newaxis],((X_band_1+X_band_2)/2)[:, :, :, np.newaxis]], axis=-1)",
      "execution_count": 5,
      "outputs": []
    },
    {
      "metadata": {
        "_cell_guid": "6c0c41e0-b95e-4129-a95e-06cd6808553d",
        "_uuid": "906b685c8ab2b91b3b9e4baffb65ad1c1aa028c3"
      },
      "cell_type": "markdown",
      "source": "Keras CNN implementation"
    },
    {
      "metadata": {
        "_cell_guid": "fb15bc53-becc-4e87-88ce-3bc99d45358d",
        "_uuid": "7a68a94f8c617209dfe56a58e291193e963d0f62",
        "trusted": true
      },
      "cell_type": "code",
      "source": "#Import Keras.\nfrom matplotlib import pyplot\nfrom keras.preprocessing.image import ImageDataGenerator\nfrom keras.models import Sequential\nfrom keras.layers import Conv2D, MaxPooling2D, Dense, Dropout, Input, Flatten, Activation\nfrom keras.layers import GlobalMaxPooling2D\nfrom keras.layers.normalization import BatchNormalization\nfrom keras.layers.merge import Concatenate\nfrom keras.models import Model\nfrom keras import initializers\nfrom keras.optimizers import Adam\nfrom keras.callbacks import ModelCheckpoint, Callback, EarlyStopping",
      "execution_count": 6,
      "outputs": [
        {
          "output_type": "stream",
          "text": "Using TensorFlow backend.\n",
          "name": "stderr"
        }
      ]
    },
    {
      "metadata": {
        "collapsed": true,
        "_cell_guid": "d7a4c0cc-0e96-46ea-960c-89bb80e11b56",
        "_uuid": "4602792c9d531903bd65c3b127a1e6be2c444b2d",
        "trusted": true
      },
      "cell_type": "code",
      "source": "#CNN CLASSIFIER DEFINITION\ndef getModel():\n    #Building the model\n    gmodel=Sequential()\n    #Conv Layer 1\n    gmodel.add(Conv2D(64, kernel_size=(5, 5), activation='relu', padding='same', input_shape=(75, 75, 1)))\n    gmodel.add(MaxPooling2D(pool_size=(2, 2), strides=(2, 2))) #yields (75-2)/2 + 1 = 37 edges\n    gmodel.add(Dropout(0.2))\n\n    #Conv Layer 1_1\n    gmodel.add(Conv2D(64, kernel_size=(3, 3), activation='relu', padding='same'))\n    gmodel.add(MaxPooling2D(pool_size=(2, 2), strides=(2, 2))) #yields (37-2)/2 + 1 = 18 edges\n    gmodel.add(Dropout(0.2))\n\n    #Conv Layer 1_2\n    gmodel.add(Conv2D(128, kernel_size=(3, 3), activation='relu', padding='same'))\n    gmodel.add(MaxPooling2D(pool_size=(2, 2), strides=(2, 2))) #yields (18-2)/2 + 1 = 9 edges\n    gmodel.add(Dropout(0.2))\n\n    #Conv Layer 1_3\n    gmodel.add(Conv2D(128, kernel_size=(3, 3), activation='relu'))\n    gmodel.add(MaxPooling2D(pool_size=(2, 2), strides=(1, 1))) #yields (9-2)/1 + 1 = 4 edges\n    gmodel.add(Dropout(0.2))\n    \n    #Conv Layer 2\n    #gmodel.add(Conv2D(256, kernel_size=(6, 6), strides=3, padding='valid', activation='relu'))\n    #gmodel.add(MaxPooling2D(pool_size=(2, 2), strides=(1, 1)))\n    #gmodel.add(Dropout(0.2))\n    \n    #Flatten the data for upcoming dense layers\n    gmodel.add(Flatten())\n\n    #Dense Layers\n    gmodel.add(Dense(512))\n    gmodel.add(Activation('relu'))\n    gmodel.add(Dropout(0.2))\n\n    #Dense Layer 2\n    gmodel.add(Dense(256))\n    gmodel.add(Activation('relu'))\n    gmodel.add(Dropout(0.2))\n\n    #Sigmoid Layer\n    gmodel.add(Dense(1))\n    gmodel.add(Activation('sigmoid'))\n\n    myoptim = Adam(lr=0.001, beta_1=0.9, beta_2=0.999, decay=0.0) #epsilon=1e-08\n    gmodel.compile(loss='binary_crossentropy',\n                  optimizer=myoptim,\n                  metrics=['accuracy'])\n    gmodel.summary()\n    return gmodel\n\n\ndef get_callbacks(filepath, patience=2):\n    es = EarlyStopping('val_loss', patience=patience, mode=\"min\")\n    msave = ModelCheckpoint(filepath, save_best_only=True)\n    return [es, msave]\nfile_path = \".model_weights.hdf5\"\ncallbacks = get_callbacks(filepath=file_path, patience=5)\n",
      "execution_count": 7,
      "outputs": []
    },
    {
      "metadata": {
        "_cell_guid": "f5d98172-f04d-4964-bcc5-d0f9aad27a42",
        "_uuid": "814f15cc8e7faa6483964ff74186e47ac7df9c8d"
      },
      "cell_type": "markdown",
      "source": "Keeping the same tt ratio as in the CapsNet NB"
    },
    {
      "metadata": {
        "_cell_guid": "1d690d4a-09ca-417c-8090-2aa417c514dd",
        "_uuid": "a883659e53709da950d04a4e5349c66d77a9422f",
        "trusted": true
      },
      "cell_type": "code",
      "source": "target_train=train['is_iceberg']\nX_train_cv, X_valid, y_train_cv, y_valid = train_test_split(X_train, target_train, random_state=42, train_size=0.92)",
      "execution_count": 12,
      "outputs": [
        {
          "output_type": "stream",
          "text": "/opt/conda/lib/python3.6/site-packages/sklearn/model_selection/_split.py:2026: FutureWarning: From version 0.21, test_size will always complement train_size unless both are specified.\n  FutureWarning)\n",
          "name": "stderr"
        }
      ]
    },
    {
      "metadata": {
        "_cell_guid": "d6bb750a-e882-4429-ad23-4392389f427f",
        "_uuid": "4e6dab11165b7d9515eb32b698851b260f0d941f",
        "trusted": true
      },
      "cell_type": "code",
      "source": "#Without denoising, core features.\nimport os\ngmodel=getModel()\ngmodel.fit(X_train_cv, y_train_cv,\n          batch_size=100,\n          epochs=20,\n          verbose=1,\n          validation_data=(X_valid, y_valid),\n          callbacks=callbacks)",
      "execution_count": 13,
      "outputs": [
        {
          "output_type": "stream",
          "text": "_________________________________________________________________\nLayer (type)                 Output Shape              Param #   \n=================================================================\nconv2d_9 (Conv2D)            (None, 75, 75, 64)        1664      \n_________________________________________________________________\nmax_pooling2d_9 (MaxPooling2 (None, 37, 37, 64)        0         \n_________________________________________________________________\ndropout_13 (Dropout)         (None, 37, 37, 64)        0         \n_________________________________________________________________\nconv2d_10 (Conv2D)           (None, 37, 37, 64)        36928     \n_________________________________________________________________\nmax_pooling2d_10 (MaxPooling (None, 18, 18, 64)        0         \n_________________________________________________________________\ndropout_14 (Dropout)         (None, 18, 18, 64)        0         \n_________________________________________________________________\nconv2d_11 (Conv2D)           (None, 18, 18, 128)       73856     \n_________________________________________________________________\nmax_pooling2d_11 (MaxPooling (None, 9, 9, 128)         0         \n_________________________________________________________________\ndropout_15 (Dropout)         (None, 9, 9, 128)         0         \n_________________________________________________________________\nconv2d_12 (Conv2D)           (None, 7, 7, 128)         147584    \n_________________________________________________________________\nmax_pooling2d_12 (MaxPooling (None, 6, 6, 128)         0         \n_________________________________________________________________\ndropout_16 (Dropout)         (None, 6, 6, 128)         0         \n_________________________________________________________________\nflatten_3 (Flatten)          (None, 4608)              0         \n_________________________________________________________________\ndense_7 (Dense)              (None, 512)               2359808   \n_________________________________________________________________\nactivation_7 (Activation)    (None, 512)               0         \n_________________________________________________________________\ndropout_17 (Dropout)         (None, 512)               0         \n_________________________________________________________________\ndense_8 (Dense)              (None, 256)               131328    \n_________________________________________________________________\nactivation_8 (Activation)    (None, 256)               0         \n_________________________________________________________________\ndropout_18 (Dropout)         (None, 256)               0         \n_________________________________________________________________\ndense_9 (Dense)              (None, 1)                 257       \n_________________________________________________________________\nactivation_9 (Activation)    (None, 1)                 0         \n=================================================================\nTotal params: 2,751,425\nTrainable params: 2,751,425\nNon-trainable params: 0\n_________________________________________________________________\nTrain on 1475 samples, validate on 129 samples\nEpoch 1/20\n1475/1475 [==============================] - 35s 24ms/step - loss: 0.6949 - acc: 0.5376 - val_loss: 0.6981 - val_acc: 0.4264\nEpoch 2/20\n1475/1475 [==============================] - 32s 22ms/step - loss: 0.6910 - acc: 0.5397 - val_loss: 0.7038 - val_acc: 0.4264\nEpoch 3/20\n1475/1475 [==============================] - 32s 21ms/step - loss: 0.6765 - acc: 0.5397 - val_loss: 0.7043 - val_acc: 0.4264\nEpoch 4/20\n1475/1475 [==============================] - 35s 24ms/step - loss: 0.6157 - acc: 0.6393 - val_loss: 0.6439 - val_acc: 0.6977\nEpoch 5/20\n1475/1475 [==============================] - 33s 23ms/step - loss: 0.5578 - acc: 0.7092 - val_loss: 0.7488 - val_acc: 0.6899\nEpoch 6/20\n1475/1475 [==============================] - 34s 23ms/step - loss: 0.5508 - acc: 0.7254 - val_loss: 0.6081 - val_acc: 0.7209\nEpoch 7/20\n1475/1475 [==============================] - 31s 21ms/step - loss: 0.5180 - acc: 0.7329 - val_loss: 0.5427 - val_acc: 0.7519\nEpoch 8/20\n1475/1475 [==============================] - 32s 22ms/step - loss: 0.4779 - acc: 0.7553 - val_loss: 0.5170 - val_acc: 0.7829\nEpoch 9/20\n1475/1475 [==============================] - 31s 21ms/step - loss: 0.4616 - acc: 0.7824 - val_loss: 0.5902 - val_acc: 0.7442\nEpoch 10/20\n1475/1475 [==============================] - 32s 22ms/step - loss: 0.4348 - acc: 0.7912 - val_loss: 0.4612 - val_acc: 0.7674\nEpoch 11/20\n1475/1475 [==============================] - 31s 21ms/step - loss: 0.3978 - acc: 0.8115 - val_loss: 0.4708 - val_acc: 0.8062\nEpoch 12/20\n1475/1475 [==============================] - 31s 21ms/step - loss: 0.4091 - acc: 0.7986 - val_loss: 0.4702 - val_acc: 0.7752\nEpoch 13/20\n1475/1475 [==============================] - 30s 21ms/step - loss: 0.3726 - acc: 0.8190 - val_loss: 0.4611 - val_acc: 0.7907\nEpoch 14/20\n1475/1475 [==============================] - 31s 21ms/step - loss: 0.3683 - acc: 0.8163 - val_loss: 0.4756 - val_acc: 0.7984\nEpoch 15/20\n1475/1475 [==============================] - 30s 21ms/step - loss: 0.3495 - acc: 0.8298 - val_loss: 0.4084 - val_acc: 0.8217\nEpoch 16/20\n1475/1475 [==============================] - 30s 21ms/step - loss: 0.3517 - acc: 0.8420 - val_loss: 0.4065 - val_acc: 0.7907\nEpoch 17/20\n1475/1475 [==============================] - 31s 21ms/step - loss: 0.3341 - acc: 0.8515 - val_loss: 0.3623 - val_acc: 0.8372\nEpoch 18/20\n1475/1475 [==============================] - 30s 21ms/step - loss: 0.3115 - acc: 0.8542 - val_loss: 0.4375 - val_acc: 0.7829\nEpoch 19/20\n1475/1475 [==============================] - 31s 21ms/step - loss: 0.3044 - acc: 0.8644 - val_loss: 0.4069 - val_acc: 0.8217\nEpoch 20/20\n1475/1475 [==============================] - 31s 21ms/step - loss: 0.2980 - acc: 0.8712 - val_loss: 0.4431 - val_acc: 0.7752\n",
          "name": "stdout"
        },
        {
          "output_type": "execute_result",
          "execution_count": 13,
          "data": {
            "text/plain": "<keras.callbacks.History at 0x7f903f9db278>"
          },
          "metadata": {}
        }
      ]
    },
    {
      "metadata": {
        "_cell_guid": "8c2e590b-40a2-404d-8790-c9127d180362",
        "_uuid": "ce582b0ae76f42c9152cf0cb2548d5bf696cbe50"
      },
      "cell_type": "markdown",
      "source": "Evaluating Test Accuracy -- Not Yet Performed"
    },
    {
      "metadata": {
        "collapsed": true,
        "_cell_guid": "079f0a8d-d2a5-4154-b37f-b425333e4ada",
        "_uuid": "0fa65f37d198cd6301376f179d9de0ccc1d40db3",
        "trusted": false
      },
      "cell_type": "code",
      "source": "#gmodel.load_weights(filepath=file_path)\n#score = gmodel.evaluate(X_valid, y_valid, verbose=1)\n#print('Test loss:', score[0])\n#print('Test accuracy:', score[1])",
      "execution_count": null,
      "outputs": []
    },
    {
      "metadata": {
        "collapsed": true,
        "_cell_guid": "7cae1458-a566-4714-8b80-0b23fe88509c",
        "_uuid": "27f021784da863a2ad960a96b9c7394f25521802",
        "trusted": false
      },
      "cell_type": "code",
      "source": "\n#X_band_test_1=np.array([np.array(band).astype(np.float32).reshape(75, 75) for band in test[\"band_1\"]])\n#X_band_test_2=np.array([np.array(band).astype(np.float32).reshape(75, 75) for band in test[\"band_2\"]])\n#X_test = np.concatenate([X_band_test_1[:, :, :, np.newaxis]\n#                          , X_band_test_2[:, :, :, np.newaxis]\n#                         , ((X_band_test_1+X_band_test_2)/2)[:, :, :, np.newaxis]], axis=-1)\n#predicted_test=gmodel.predict_proba(X_test)",
      "execution_count": null,
      "outputs": []
    },
    {
      "metadata": {
        "collapsed": true,
        "_cell_guid": "da3618f6-6e0a-475c-a390-7e17f5406c1a",
        "_uuid": "b34412c33fe8250df3285867d9a13e4bd08e8c12",
        "trusted": false
      },
      "cell_type": "code",
      "source": "#submission = pd.DataFrame()\n#submission['id']=test['id']\n#submission['is_iceberg']=predicted_test.reshape((predicted_test.shape[0]))\n#submission.to_csv('sub.csv', index=False)",
      "execution_count": null,
      "outputs": []
    },
    {
      "metadata": {
        "collapsed": true,
        "_cell_guid": "637e3662-38ac-4fa6-8065-48c8105026a9",
        "_uuid": "962411dc0d6a00c1730bfd22767542210c36f751",
        "trusted": false
      },
      "cell_type": "code",
      "source": "",
      "execution_count": null,
      "outputs": []
    }
  ],
  "metadata": {
    "kernelspec": {
      "display_name": "Python 3",
      "language": "python",
      "name": "python3"
    },
    "language_info": {
      "name": "python",
      "version": "3.6.4",
      "mimetype": "text/x-python",
      "codemirror_mode": {
        "name": "ipython",
        "version": 3
      },
      "pygments_lexer": "ipython3",
      "nbconvert_exporter": "python",
      "file_extension": ".py"
    }
  },
  "nbformat": 4,
  "nbformat_minor": 1
}