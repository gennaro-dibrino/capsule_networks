{
 "cells": [
  {
   "cell_type": "code",
   "execution_count": 10,
   "metadata": {
    "collapsed": true
   },
   "outputs": [],
   "source": [
    "import numpy as np\n",
    "#import keras\n",
    "import os\n",
    "from __future__ import division, print_function, unicode_literals\n",
    "import tensorflow as tf\n",
    "import matplotlib.pyplot as plt"
   ]
  },
  {
   "cell_type": "markdown",
   "metadata": {},
   "source": [
    "## Capsnets for SNAKE"
   ]
  },
  {
   "cell_type": "markdown",
   "metadata": {},
   "source": [
    "https://www.kaggle.com/nicw102168/snake-eyes \n",
    "\n",
    "----"
   ]
  },
  {
   "cell_type": "code",
   "execution_count": 11,
   "metadata": {},
   "outputs": [
    {
     "data": {
      "text/plain": [
       "['snakeeyes_00.dat',\n",
       " 'snakeeyes_01.dat',\n",
       " 'snakeeyes_02.dat',\n",
       " 'snakeeyes_03.dat',\n",
       " 'snakeeyes_04.dat',\n",
       " 'snakeeyes_05.dat',\n",
       " 'snakeeyes_06.dat',\n",
       " 'snakeeyes_07.dat',\n",
       " 'snakeeyes_08.dat',\n",
       " 'snakeeyes_09.dat',\n",
       " 'snakeeyes_test.dat']"
      ]
     },
     "execution_count": 11,
     "metadata": {},
     "output_type": "execute_result"
    }
   ],
   "source": [
    "path = os.getcwd() +\"\\\\snake-eyes\\\\snake-eyes\\\\\"\n",
    "\n",
    "os.listdir(path)"
   ]
  },
  {
   "cell_type": "markdown",
   "metadata": {},
   "source": [
    "**File reading (thanks to nic):**"
   ]
  },
  {
   "cell_type": "code",
   "execution_count": 12,
   "metadata": {
    "collapsed": true
   },
   "outputs": [],
   "source": [
    "def read_vectors(*filenames):\n",
    "    data = np.vstack(\n",
    "        tuple(np.fromfile(filename, dtype=np.uint8).reshape(-1,401)\n",
    "                      for filename in filenames))\n",
    "                      \n",
    "    return data[:,1:], np.eye(12)[data[:,0] - 1]\n",
    "\n",
    "X_train, y_train = read_vectors(*[path+\"snakeeyes_{:02d}.dat\".format(nn) for nn in range(10)])\n",
    "X_test, y_test = read_vectors(*[path + \"snakeeyes_test.dat\"])\n",
    "\n"
   ]
  },
  {
   "cell_type": "code",
   "execution_count": 4,
   "metadata": {},
   "outputs": [
    {
     "name": "stdout",
     "output_type": "stream",
     "text": [
      "(1000000, 400)\n",
      "(10000, 400)\n"
     ]
    }
   ],
   "source": [
    "print(X_train.shape)\n",
    "\n",
    "print(X_test.shape)"
   ]
  },
  {
   "cell_type": "code",
   "execution_count": 5,
   "metadata": {},
   "outputs": [
    {
     "data": {
      "text/plain": [
       "numpy.uint8"
      ]
     },
     "execution_count": 5,
     "metadata": {},
     "output_type": "execute_result"
    }
   ],
   "source": [
    "type(X_train[0][0])"
   ]
  },
  {
   "cell_type": "markdown",
   "metadata": {},
   "source": [
    "**Let's see what an image looks like:**"
   ]
  },
  {
   "cell_type": "code",
   "execution_count": 13,
   "metadata": {},
   "outputs": [
    {
     "data": {
      "image/png": "[encoded data removed]",
      "text/plain": [
       "<matplotlib.figure.Figure at 0x1c6b0df4668>"
      ]
     },
     "metadata": {},
     "output_type": "display_data"
    }
   ],
   "source": [
    "image = X_train[0, :]\n",
    "\n",
    "plt.subplot(141)\n",
    "plt.title('{}'.format(np.where(y_train[0]==1)[0]))\n",
    "plt.imshow(image.reshape(20, 20), cmap = 'gray')\n",
    "plt.subplot(142)\n",
    "plt.title('{}'.format(np.where(y_train[1]==1)[0]))\n",
    "plt.imshow(X_train[1, :].reshape(20, 20), cmap = 'gray')\n",
    "plt.subplot(143)\n",
    "plt.title('{}'.format(np.where(y_train[2]==1)[0]))\n",
    "plt.imshow(X_train[2, :].reshape(20, 20), cmap = 'gray')\n",
    "plt.subplot(144)\n",
    "plt.title('{}'.format(np.where(y_train[9]==1)[0]))\n",
    "plt.imshow(X_train[9, :].reshape(20, 20), cmap = 'gray')\n",
    "plt.show()\n"
   ]
  },
  {
   "cell_type": "code",
   "execution_count": 14,
   "metadata": {},
   "outputs": [
    {
     "data": {
      "image/png": "[encoded data removed]",
      "text/plain": [
       "<matplotlib.figure.Figure at 0x1c6ab368f98>"
      ]
     },
     "metadata": {},
     "output_type": "display_data"
    }
   ],
   "source": [
    "plt.subplot(141)\n",
    "#plt.title('{}'.format(y_train[0]))\n",
    "plt.imshow(X_train[4, :].reshape(20, 20), cmap = 'gray')\n",
    "plt.subplot(142)\n",
    "plt.title('{}'.format(np.where(y_train[8]==1)[0]))\n",
    "plt.imshow(X_train[8, :].reshape(20, 20), cmap = 'gray')\n",
    "plt.subplot(143)\n",
    "#plt.title('{}'.format(y_train[2]))\n",
    "plt.imshow(X_train[6, :].reshape(20, 20), cmap = 'gray')\n",
    "plt.subplot(144)\n",
    "#plt.title('{}'.format(y_train[2]))\n",
    "plt.imshow(X_train[7, :].reshape(20, 20), cmap = 'gray')\n",
    "plt.show()"
   ]
  },
  {
   "cell_type": "code",
   "execution_count": 16,
   "metadata": {
    "collapsed": true
   },
   "outputs": [],
   "source": [
    "res = [ np.where(r==1)[0][0] for r in y_train ]"
   ]
  },
  {
   "cell_type": "code",
   "execution_count": 17,
   "metadata": {},
   "outputs": [
    {
     "name": "stdout",
     "output_type": "stream",
     "text": [
      "(1000000, 20, 20)\n",
      "(10000, 20, 20)\n"
     ]
    }
   ],
   "source": [
    "X_train = X_train.reshape(1000000, 20, 20)\n",
    "X_test = X_test.reshape(10000, 20, 20)\n",
    "print(X_train.shape)\n",
    "print(X_test.shape)"
   ]
  },
  {
   "cell_type": "markdown",
   "metadata": {},
   "source": [
    "**Idea: pre-apply filter to get high contrast images**"
   ]
  },
  {
   "cell_type": "markdown",
   "metadata": {},
   "source": [
    "## Tensorflow Capsnet"
   ]
  },
  {
   "cell_type": "code",
   "execution_count": 18,
   "metadata": {
    "collapsed": true
   },
   "outputs": [],
   "source": [
    "tf.reset_default_graph()\n",
    "np.random.seed(42)\n",
    "tf.set_random_seed(42)"
   ]
  },
  {
   "cell_type": "markdown",
   "metadata": {},
   "source": [
    "---"
   ]
  },
  {
   "cell_type": "code",
   "execution_count": 19,
   "metadata": {
    "collapsed": true
   },
   "outputs": [],
   "source": [
    "X = tf.placeholder(shape = [None, 20, 20, 1], dtype = tf.float32)"
   ]
  },
  {
   "cell_type": "code",
   "execution_count": 20,
   "metadata": {
    "collapsed": true
   },
   "outputs": [],
   "source": [
    "caps1_n_maps = 32\n",
    "caps1_n_caps = caps1_n_maps * 6 * 6\n",
    "caps1_n_dims = 8"
   ]
  },
  {
   "cell_type": "code",
   "execution_count": 21,
   "metadata": {
    "collapsed": true
   },
   "outputs": [],
   "source": [
    "conv1_params = {\n",
    "    \"filters\": 32,\n",
    "    \"kernel_size\": 5,\n",
    "    \"strides\": 1, \n",
    "    \"padding\": \"valid\",\n",
    "    \"activation\": tf.nn.relu,\n",
    "}\n",
    "\n",
    "conv2_params = { \n",
    "    \"filters\": 32, \n",
    "    \"kernel_size\": 5,\n",
    "    \"strides\": 2,\n",
    "    \"padding\": \"valid\",\n",
    "    \"activation\": tf.nn.relu,\n",
    "}"
   ]
  },
  {
   "cell_type": "code",
   "execution_count": 22,
   "metadata": {
    "collapsed": true
   },
   "outputs": [],
   "source": [
    "conv1 = tf.layers.conv2d(X, name = \"conv1\", **conv1_params)\n",
    "conv2 = tf.layers.conv2d(conv1, name = \"conv2\", **conv2_params)"
   ]
  },
  {
   "cell_type": "code",
   "execution_count": 23,
   "metadata": {},
   "outputs": [
    {
     "name": "stdout",
     "output_type": "stream",
     "text": [
      "(?, 6, 6, 32)\n"
     ]
    }
   ],
   "source": [
    "conv1.shape\n",
    "print(conv2.shape)"
   ]
  },
  {
   "cell_type": "code",
   "execution_count": 24,
   "metadata": {
    "collapsed": true
   },
   "outputs": [],
   "source": [
    "def squash(s, axis=-1, epsilon=1e-7, name=None):\n",
    "    with tf.name_scope(name, default_name=\"squash\"):\n",
    "        squared_norm = tf.reduce_sum(tf.square(s), axis=axis,\n",
    "                                     keep_dims=True)\n",
    "        safe_norm = tf.sqrt(squared_norm + epsilon)\n",
    "        squash_factor = squared_norm / (1. + squared_norm)\n",
    "        unit_vector = s / safe_norm\n",
    "        return squash_factor * unit_vector"
   ]
  }
 ],
 "metadata": {
  "kernelspec": {
   "display_name": "Python 3",
   "language": "python",
   "name": "python3"
  },
  "language_info": {
   "codemirror_mode": {
    "name": "ipython",
    "version": 3
   },
   "file_extension": ".py",
   "mimetype": "text/x-python",
   "name": "python",
   "nbconvert_exporter": "python",
   "pygments_lexer": "ipython3",
   "version": "3.6.1"
  }
 },
 "nbformat": 4,
 "nbformat_minor": 2
}
