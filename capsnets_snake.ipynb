{
 "cells": [
  {
   "cell_type": "code",
   "execution_count": 2,
   "metadata": {
    "collapsed": true
   },
   "outputs": [],
   "source": [
    "import numpy as np\n",
    "#import keras\n",
    "import os\n",
    "from __future__ import division, print_function, unicode_literals\n",
    "import tensorflow as tf\n",
    "import matplotlib.pyplot as plt"
   ]
  },
  {
   "cell_type": "markdown",
   "metadata": {},
   "source": [
    "## Capsnets for SNAKE"
   ]
  },
  {
   "cell_type": "markdown",
   "metadata": {},
   "source": [
    "https://www.kaggle.com/nicw102168/snake-eyes \n",
    "\n",
    "----"
   ]
  },
  {
   "cell_type": "code",
   "execution_count": 3,
   "metadata": {},
   "outputs": [
    {
     "data": {
      "text/plain": [
       "['snakeeyes_00.dat',\n",
       " 'snakeeyes_01.dat',\n",
       " 'snakeeyes_02.dat',\n",
       " 'snakeeyes_03.dat',\n",
       " 'snakeeyes_04.dat',\n",
       " 'snakeeyes_05.dat',\n",
       " 'snakeeyes_06.dat',\n",
       " 'snakeeyes_07.dat',\n",
       " 'snakeeyes_08.dat',\n",
       " 'snakeeyes_09.dat',\n",
       " 'snakeeyes_test.dat']"
      ]
     },
     "execution_count": 3,
     "metadata": {},
     "output_type": "execute_result"
    }
   ],
   "source": [
    "path = os.getcwd() +\"\\\\snake-eyes\\\\snake-eyes\\\\\"\n",
    "\n",
    "os.listdir(path)"
   ]
  },
  {
   "cell_type": "markdown",
   "metadata": {},
   "source": [
    "**File reading (thanks to nic):**"
   ]
  },
  {
   "cell_type": "code",
   "execution_count": 4,
   "metadata": {
    "collapsed": true
   },
   "outputs": [],
   "source": [
    "def read_vectors(*filenames):\n",
    "    data = np.vstack(\n",
    "        tuple(np.fromfile(filename, dtype=np.uint8).reshape(-1,401)\n",
    "                      for filename in filenames))\n",
    "                      \n",
    "    return data[:,1:], np.eye(12)[data[:,0] - 1]\n",
    "\n",
    "X_train, y_train = read_vectors(*[path+\"snakeeyes_{:02d}.dat\".format(nn) for nn in range(10)])\n",
    "X_test, y_test = read_vectors(*[path + \"snakeeyes_test.dat\"])\n",
    "\n",
    "#X_train, y_train = read_vectors(*[\"../input/snake-eyes/snakeeyes_{:02d}.dat\".format(nn) for nn in range(10)])\n",
    "#X_test, y_test = read_vectors(\"../input/snake-eyes/snakeeyes_test.dat\")"
   ]
  },
  {
   "cell_type": "code",
   "execution_count": 18,
   "metadata": {},
   "outputs": [
    {
     "name": "stdout",
     "output_type": "stream",
     "text": [
      "(1000000, 400)\n",
      "(10000, 400)\n"
     ]
    }
   ],
   "source": [
    "print(X_train.shape)\n",
    "\n",
    "print(X_test.shape)"
   ]
  },
  {
   "cell_type": "markdown",
   "metadata": {},
   "source": [
    "**Let's see what an image looks like:**"
   ]
  },
  {
   "cell_type": "code",
   "execution_count": 5,
   "metadata": {},
   "outputs": [
    {
     "data": {
      "image/png": "[encoded data removed]",
      "text/plain": [
       "<matplotlib.figure.Figure at 0x130d332f470>"
      ]
     },
     "metadata": {},
     "output_type": "display_data"
    }
   ],
   "source": [
    "image = X_train[0, :]\n",
    "\n",
    "plt.subplot(141)\n",
    "#plt.title('{}'.format(y_train[0]))\n",
    "plt.imshow(image.reshape(20, 20), cmap = 'gray')\n",
    "plt.subplot(142)\n",
    "#plt.title('{}'.format(y_train[1]))\n",
    "plt.imshow(X_train[1, :].reshape(20, 20), cmap = 'gray')\n",
    "plt.subplot(143)\n",
    "#plt.title('{}'.format(y_train[2]))\n",
    "plt.imshow(X_train[2, :].reshape(20, 20), cmap = 'gray')\n",
    "plt.subplot(144)\n",
    "#plt.title('{}'.format(y_train[2]))\n",
    "plt.imshow(X_train[3, :].reshape(20, 20), cmap = 'gray')\n",
    "plt.show()"
   ]
  }
 ],
 "metadata": {
  "kernelspec": {
   "display_name": "Python 3",
   "language": "python",
   "name": "python3"
  },
  "language_info": {
   "codemirror_mode": {
    "name": "ipython",
    "version": 3
   },
   "file_extension": ".py",
   "mimetype": "text/x-python",
   "name": "python",
   "nbconvert_exporter": "python",
   "pygments_lexer": "ipython3",
   "version": "3.6.1"
  }
 },
 "nbformat": 4,
 "nbformat_minor": 2
}
